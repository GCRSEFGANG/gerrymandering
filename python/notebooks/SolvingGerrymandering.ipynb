{
 "cells": [
  {
   "cell_type": "markdown",
   "metadata": {},
   "source": [
    "# Solving Gerrymandering\n",
    "\n",
    "The same algorithm we used to generate political communities we used to redistrict. We just put tighter constraints on population and compactness.  "
   ]
  },
  {
   "cell_type": "markdown",
   "metadata": {},
   "source": [
    "The districts generated from our algorithm are stored in `data/nh_redistricts.pickle`."
   ]
  },
  {
   "cell_type": "code",
   "execution_count": 2,
   "metadata": {},
   "outputs": [],
   "source": [
    "import pickle\n",
    "\n",
    "with open(\"data/nh_redistricts.pickle\", \"rb\") as f:\n",
    "    district_stages, changed_precincts, _ = pickle.load(f)"
   ]
  },
  {
   "cell_type": "markdown",
   "metadata": {},
   "source": [
    "Let's see what the efficiency gap is of our districts:"
   ]
  },
  {
   "cell_type": "code",
   "execution_count": 5,
   "metadata": {},
   "outputs": [
    {
     "output_type": "stream",
     "name": "stdout",
     "text": "23.551%\n"
    }
   ],
   "source": [
    "# District 1 votes - republicans won.\n",
    "dem_1 = sum([precinct.d_election_sum\n",
    "             for precinct in district_stages[-1][0].precincts.values()])\n",
    "rep_1 = sum([precinct.r_election_sum\n",
    "             for precinct in district_stages[-1][0].precincts.values()])\n",
    "# District 2 votes - democrats won.\n",
    "dem_2 = sum([precinct.d_election_sum\n",
    "             for precinct in district_stages[-1][1].precincts.values()])\n",
    "rep_2 = sum([precinct.r_election_sum\n",
    "             for precinct in district_stages[-1][1].precincts.values()])\n",
    "\n",
    "# Calculate each number of wasted votes\n",
    "district_1_wasted_dem = dem_1\n",
    "district_1_wasted_rep = rep_1 - int(((rep_1 + dem_1) / 2) + 1)\n",
    "district_2_wasted_dem = dem_2 - int(((dem_2 + rep_2) / 2) + 1)\n",
    "district_2_wasted_rep = rep_2\n",
    "\n",
    "dem_wasted_votes = (district_1_wasted_dem + district_2_wasted_rep)\n",
    "rep_wasted_votes = (district_1_wasted_rep + district_2_wasted_rep)\n",
    "total_votes = sum([dem_1 + dem_2 + rep_1 + rep_2])\n",
    "efficiency_gap = (abs(dem_wasted_votes - rep_wasted_votes)) / total_votes\n",
    "print(f\"{round(efficiency_gap * 100, 3)}%\")"
   ]
  },
  {
   "cell_type": "code",
   "execution_count": null,
   "metadata": {},
   "outputs": [],
   "source": []
  }
 ],
 "metadata": {
  "kernelspec": {
   "display_name": "Python 3.8.0 64-bit ('venv': venv)",
   "language": "python",
   "name": "python38064bitvenvvenv694e31346179489bbbab81ea1a2d244f"
  },
  "language_info": {
   "codemirror_mode": {
    "name": "ipython",
    "version": 3
   },
   "file_extension": ".py",
   "mimetype": "text/x-python",
   "name": "python",
   "nbconvert_exporter": "python",
   "pygments_lexer": "ipython3",
   "version": "3.8.0-final"
  }
 },
 "nbformat": 4,
 "nbformat_minor": 4
}